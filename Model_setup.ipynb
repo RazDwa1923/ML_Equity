{
 "cells": [
  {
   "metadata": {},
   "cell_type": "markdown",
   "source": [
    "# ML Pricing Algorithm Plan\n",
    "\n",
    "### Objective\n",
    "\n",
    "The aim of this document is to outline the next steps I will go through in order to build a ML model to predict P/E ratios of stocks\n",
    "\n",
    "Two potential models I will build:\n",
    "\n",
    "1. Fundemental Model: Quarterly Data using Financial Statements { symbolized by F}\n",
    "2. Correlation Model: Daily Data using Prices and Indicies {symbolized by Q}"
   ],
   "id": "689de833e63fdeca"
  },
  {
   "metadata": {},
   "cell_type": "markdown",
   "source": [
    "\n",
    "#### Building Dataset\n",
    "\n",
    "API: The selected API will be from Financial Model Prep. The overview of the API can be accessed at [FMP API Overview](https://site.financialmodelingprep.com/developer/docs#valuation)\n",
    "\n",
    "I will be building datasets for the following categories:\n",
    "\n",
    "- [ ] Price Data {Q} : Daily Prices (get Earnings Annoucments dates from FMP and prices for day, week and month after from another source where prices are available __[requires two steps]__)\n",
    "- [X] Financial Statement Data {F} : Quarterly Statments and Earnings\n",
    "- [X] Earnings Data {F} : Earnings per share currrent and forecast (quarterly or trailing 12months)\n",
    "- [X] Company Specific Information {F} : Information describing the Company\n",
    "- [ ] Market Indicies {QF} : Index data of major exchnages \n",
    "- [ ] Economic Factors {QF} : Treasury yields, commodity prices, gold, unemployment, GDP releases\n",
    "- [ ] Exchange Structure {QF} : Volumes over time, also can be combined volume during time or average volumes\n",
    "- [X] Ratios/Specialized KPI {QF}: Financial statement ratios or created ratios such a Piotrowski Score\n",
    "\n",
    "In order to support data creation, I will also need to create datasets or dictionaries with the following info:\n",
    "\n",
    "- [x] S&P and Nasdaq members and symbols\n",
    "- [x] Industry labels for classyfing stocks into industries \n",
    "- [x] Dates and quarters labels\n",
    "\n",
    "Data Parameters:\n",
    "\n",
    "- Time Frame: 5 years\n",
    "- Frequency: Daily and Quarterly\n",
    "- Separate Tables for each of above categories\n",
    "\n"
   ],
   "id": "8a77807f92f26ee"
  },
  {
   "metadata": {},
   "cell_type": "markdown",
   "source": [
    "#### Data Cleaning and Preparation\n",
    "\n",
    "After each of the above the data tables are prepared, the following steps will be taken:\n",
    "\n",
    "- Check for Missing Values\n",
    "- Check for Duplicates\n",
    "- Check for Outliers\n",
    "- Check for Data Types\n",
    "\n",
    "Once the data is cleaned each of the tables will be saved and then merged into a single dataset for each of the models. \n",
    "\n",
    "The tables will follow 3 principles:\n",
    "1. Every column is a variable.\n",
    "2. Every row is an observation.\n",
    "3. Every cell is a single value.\n",
    "\n",
    "In effect, the data will be a cross sectional timeseries dataset with each stock symbol as the observation and the variables as the columns.\n",
    "\n",
    "In order to better work with a time series I will also translate the data into difference btw periods and percentage change.\n"
   ],
   "id": "3ec13fe3ab7e30df"
  },
  {
   "metadata": {},
   "cell_type": "markdown",
   "source": [
    "#### Data Exploration and Visualization\n",
    "\n",
    "Before embarging on building the models, I will explore the data to understand the relationships between the variables and the target variable.\n",
    "\n",
    "The following steps will be taken:\n",
    "\n",
    "- Descriptive Statistics\n",
    "- Correlation Matrix\n",
    "- Time Series Plots\n",
    "- Scatter Plots\n",
    "- Box Plots\n",
    "\n",
    "The above will be done for each of the models. And the main aim is to understand the relationships between the variables and the target variable to see whether statistical relationships exist and are normally distributed.\n"
   ],
   "id": "631eb95c0398e2f5"
  },
  {
   "metadata": {},
   "cell_type": "markdown",
   "source": [
    "#### Feature Engineering\n",
    "\n",
    "After the data is explored, I will engineer features to be used in the models. The following steps will be taken:\n",
    "\n",
    "- Create new variables\n",
    "- Transform variables\n",
    "- Scale variables\n",
    "- Normalize variables\n",
    "- Create dummy variables\n",
    "- Create lagged variables\n",
    "- Create rolling variables\n",
    "- Create moving average variables\n",
    "- Create momentum variables\n",
    "- Create volatility variables\n",
    "- Create trend variables\n",
    "- Create seasonality variables\n",
    "- Create interaction variables\n",
    "- Create polynomial variables\n",
    "- Create log variables\n",
    "\n"
   ],
   "id": "8756eb5c051261e3"
  },
  {
   "metadata": {},
   "cell_type": "markdown",
   "source": [
    "#### Model Building\n",
    "\n",
    "After the features are engineered, I will build the models. The following steps will be taken:\n",
    "\n",
    "- Split the data into training and testing sets\n",
    "- Train the models\n",
    "- Evaluate the models\n",
    "- Tune the models\n",
    "- Test the models\n",
    "- Compare the models\n",
    "- Select the best model\n",
    "\n",
    "Possible Models to evaluate are:\n",
    "\n",
    "- Linear Regression\n",
    "- Ridge Regression\n",
    "- Lasso Regression\n",
    "- Elastic Net Regression\n",
    "- Decision Trees\n",
    "- Random Forest\n",
    "- Gradient Boosting\n",
    "- AdaBoost\n",
    "\n",
    "I would like to also test designing models using Neural Networks and Support Vector Machines.\n",
    "\n",
    "The model will be evaluated to see how well they predict the P/E ratio of stocks.\n",
    "\n",
    "Once, I have the best model I would like to also build a pipeline to automate the model building process. \n",
    "\n",
    "The pipeline will then suggest stocks that are undervalued or overvalued based on the model predictions and the actual P/E ratios.\n",
    "\n",
    "The suggested trades will be then backtested and the results will be analyzed."
   ],
   "id": "1ac088d7570e6a89"
  }
 ],
 "metadata": {
  "kernelspec": {
   "display_name": "Python 3",
   "language": "python",
   "name": "python3"
  },
  "language_info": {
   "codemirror_mode": {
    "name": "ipython",
    "version": 2
   },
   "file_extension": ".py",
   "mimetype": "text/x-python",
   "name": "python",
   "nbconvert_exporter": "python",
   "pygments_lexer": "ipython2",
   "version": "2.7.6"
  }
 },
 "nbformat": 4,
 "nbformat_minor": 5
}
