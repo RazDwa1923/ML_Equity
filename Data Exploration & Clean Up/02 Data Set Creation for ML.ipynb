{
 "cells": [
  {
   "cell_type": "code",
   "id": "initial_id",
   "metadata": {
    "collapsed": true,
    "ExecuteTime": {
     "end_time": "2025-02-01T03:26:52.592943Z",
     "start_time": "2025-02-01T03:26:52.590930Z"
    }
   },
   "source": [
    "# Importing the necessary libraries\n",
    "\n",
    "import pandas as pd\n",
    "import numpy as np\n",
    "import matplotlib.pyplot as plt\n",
    "import seaborn as sns\n"
   ],
   "outputs": [],
   "execution_count": 1
  },
  {
   "metadata": {},
   "cell_type": "code",
   "outputs": [],
   "execution_count": null,
   "source": [
    "# Load the data\n",
    "\n",
    "filepath_finance_data = '../Data/Datasets/updated_finance_data.csv'\n",
    "finance_data = pd.read_csv(filepath_finance_data)\n"
   ],
   "id": "188c933e8f8496be"
  },
  {
   "metadata": {},
   "cell_type": "code",
   "outputs": [],
   "execution_count": null,
   "source": [
    "# Checking the data\n",
    "# ordering all columns in alphabetical order\n",
    "\n",
    "finance_data = finance_data.reindex(sorted(finance_data.columns), axis=1)\n",
    "\n",
    "# for easier viewing, I will make sure all float values are rounded to 2 decimal places and have commas\n",
    "\n",
    "pd.options.display.float_format = '{:,.2f}'.format\n",
    "\n",
    "# sorting the finance data by symbol (ascending) and date_x (ascending)\n",
    "\n",
    "finance_data = finance_data.sort_values(by=['symbol', 'date_x'], ascending=[True, True])\n",
    "\n",
    "# removing countries that create noise in the data\n",
    "\n",
    "country2remove = ['IN', 'JP', 'CN', 'BR', 'TW', 'DK'] # removed as it looks like some of the data was not accurate for these countries\n",
    "\n",
    "finance_data = finance_data[~finance_data['country'].isin(country2remove)]\n",
    "\n",
    "# viewing the first 10 rows of the data\n",
    "\n",
    "finance_data.head(10)\n"
   ],
   "id": "bf56abcb8cee2424"
  },
  {
   "metadata": {},
   "cell_type": "code",
   "outputs": [],
   "execution_count": null,
   "source": [
    "# creating a smaller dataset for the machine learning model. First by defining the columns to keep and second by making a copy of the data and filtering for the columns to keep.\n",
    "\n",
    "kpi2keep = ['companyName', 'date_x', 'fiscalDateEnding', 'sector', 'symbol',\n",
    "            'revenuePerShare', 'capexPerShare', 'operatingCashFlowPerShare_x', 'epsEstimated',\n",
    "            'grossProfitMargin', 'returnOnEquity', 'freeCashFlowPerShare_x', 'stockPrice', 'peRatio',\n",
    "            'bookValuePerShare', 'cashPerShare_x',]"
   ],
   "id": "9676bf88af8e5620"
  }
 ],
 "metadata": {
  "kernelspec": {
   "display_name": "Python 3",
   "language": "python",
   "name": "python3"
  },
  "language_info": {
   "codemirror_mode": {
    "name": "ipython",
    "version": 2
   },
   "file_extension": ".py",
   "mimetype": "text/x-python",
   "name": "python",
   "nbconvert_exporter": "python",
   "pygments_lexer": "ipython2",
   "version": "2.7.6"
  }
 },
 "nbformat": 4,
 "nbformat_minor": 5
}
